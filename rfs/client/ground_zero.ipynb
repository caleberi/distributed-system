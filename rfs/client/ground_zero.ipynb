{
 "cells": [
  {
   "cell_type": "code",
   "execution_count": 3,
   "metadata": {},
   "outputs": [
    {
     "name": "stdout",
     "output_type": "stream",
     "text": [
      "Chunk Index: 14\n",
      "Offset within Chunk: 60475904\n"
     ]
    }
   ],
   "source": [
    "# Constants\n",
    "total_file_size = 500 * 1024 * 1024  # Total size of the file in bytes\n",
    "chunk_size = 64 * 1024 * 1024        # Size of each chunk in bytes\n",
    "\n",
    "# Given data offset within the file\n",
    "data_offset = 1_000_000_000\n",
    "\n",
    "# Calculate the chunk index where the data resides\n",
    "chunk_index = data_offset // chunk_size\n",
    "\n",
    "# Calculate the offset within the chunk\n",
    "offset_within_chunk = data_offset % chunk_size\n",
    "\n",
    "# Print the results\n",
    "print(\"Chunk Index:\", chunk_index)\n",
    "print(\"Offset within Chunk:\", offset_within_chunk)"
   ]
  }
 ],
 "metadata": {
  "kernelspec": {
   "display_name": "env",
   "language": "python",
   "name": "python3"
  },
  "language_info": {
   "codemirror_mode": {
    "name": "ipython",
    "version": 3
   },
   "file_extension": ".py",
   "mimetype": "text/x-python",
   "name": "python",
   "nbconvert_exporter": "python",
   "pygments_lexer": "ipython3",
   "version": "3.11.4"
  }
 },
 "nbformat": 4,
 "nbformat_minor": 2
}
